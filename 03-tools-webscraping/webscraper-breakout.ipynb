{
  "nbformat": 4,
  "nbformat_minor": 0,
  "metadata": {
    "kernelspec": {
      "display_name": "Python 3",
      "language": "python",
      "name": "python3"
    },
    "language_info": {
      "codemirror_mode": {
        "name": "ipython",
        "version": 3
      },
      "file_extension": ".py",
      "mimetype": "text/x-python",
      "name": "python",
      "nbconvert_exporter": "python",
      "pygments_lexer": "ipython3",
      "version": "3.6.3"
    },
    "colab": {
      "name": "webscraper-breakout.ipynb",
      "provenance": []
    }
  },
  "cells": [
    {
      "cell_type": "markdown",
      "metadata": {
        "id": "-Yiu-DXAKuLS"
      },
      "source": [
        "<img src=\"https://plaksha.org/techleaders/images/theme/logo/techleader-logo.png\"></img>\n",
        "<br><br><br><br>\n",
        "\n",
        "<br/>\n",
        "\n",
        "\n",
        "### NOTE: Although I have forked an earlier version of this, I have reached out to discuss this with my peers and have found out the exact requirements. Hope the code is clear\n",
        "\n",
        "**Author List**: Subhash Kashyap and Alexander Fred Ojala\n",
        "\n",
        "\n",
        "**Original Sources**: https://www.crummy.com/software/BeautifulSoup/bs4/doc/ & https://www.dataquest.io/blog/web-scraping-tutorial-python/\n",
        "\n",
        "**License**: Feel free to do whatever you want to with this code\n",
        "\n",
        "**Compatibility:** Python 2.x and 3.x"
      ]
    },
    {
      "cell_type": "markdown",
      "metadata": {
        "id": "4hpMvtYGKuLT"
      },
      "source": [
        "---\n",
        "<a id='sec4'></a>\n",
        "# Breakout problem\n",
        "\n",
        "\n",
        "In this week's breakout you should extract live weather data in Berkeley from:\n",
        "\n",
        "[http://forecast.weather.gov/MapClick.php?lat=37.87158815800046&lon=-122.27274583799971](http://forecast.weather.gov/MapClick.php?lat=37.87158815800046&lon=-122.27274583799971)\n",
        "\n",
        "\n",
        "* Task scrape\n",
        "\n",
        "    * period / day (as Tonight, Friday, FridayNight etc.\n",
        "    * the temperature for the period (as Low, High)\n",
        "    * the long weather description (e.g. Partly cloudy, with a low around 49..)\n",
        "    \n",
        "Store the scraped data strings in a Pandas DataFrame\n",
        "\n",
        "\n",
        "\n",
        "**Hint:** The weather information is found in a div tag with `id='seven-day-forecast'`\n",
        "\n"
      ]
    },
    {
      "cell_type": "markdown",
      "metadata": {
        "id": "2yARpwcTKuLT"
      },
      "source": [
        "# Your solution"
      ]
    },
    {
      "cell_type": "code",
      "metadata": {
        "id": "dEcKXKvdKuLT"
      },
      "source": [
        "import pandas as pd\n",
        "import bs4 as bs\n",
        "import requests"
      ],
      "execution_count": 6,
      "outputs": []
    },
    {
      "cell_type": "code",
      "metadata": {
        "id": "ceEacwmpLa-P"
      },
      "source": [
        "url = \"http://forecast.weather.gov/MapClick.php?lat=37.87158815800046&lon=-122.27274583799971\""
      ],
      "execution_count": 5,
      "outputs": []
    },
    {
      "cell_type": "code",
      "metadata": {
        "id": "k1gqmjalND6e"
      },
      "source": [
        "weather_df = pd.read_html(url)"
      ],
      "execution_count": 19,
      "outputs": []
    },
    {
      "cell_type": "code",
      "metadata": {
        "id": "iE5DM4vbPHMx",
        "outputId": "cc1f30cd-142d-4b8a-f2d1-d2291faa8536",
        "colab": {
          "base_uri": "https://localhost:8080/"
        }
      },
      "source": [
        "weather_df #Well played ;-;"
      ],
      "execution_count": 20,
      "outputs": [
        {
          "output_type": "execute_result",
          "data": {
            "text/plain": [
              "[             0                    1\n",
              " 0     Humidity                  48%\n",
              " 1   Wind Speed            WSW 1 MPH\n",
              " 2    Barometer                  NaN\n",
              " 3     Dewpoint          29°F (-2°C)\n",
              " 4   Visibility                  NaN\n",
              " 5  Last update  28 Nov 05:30 AM PST]"
            ]
          },
          "metadata": {
            "tags": []
          },
          "execution_count": 20
        }
      ]
    },
    {
      "cell_type": "code",
      "metadata": {
        "id": "eAStQ3GfMnTp"
      },
      "source": [
        "source = requests.get(url).content "
      ],
      "execution_count": 7,
      "outputs": []
    },
    {
      "cell_type": "code",
      "metadata": {
        "id": "rHlawXJHM9-7"
      },
      "source": [
        "soup = bs.BeautifulSoup(source,'html.parser')"
      ],
      "execution_count": 8,
      "outputs": []
    },
    {
      "cell_type": "code",
      "metadata": {
        "id": "66D_3MDWNBD7"
      },
      "source": [
        "sevenDayForecast = soup.find_all(\"ul\", id=\"seven-day-forecast-list\")"
      ],
      "execution_count": 16,
      "outputs": []
    },
    {
      "cell_type": "code",
      "metadata": {
        "id": "1wiN9QIEQD4J"
      },
      "source": [
        "lists = []\n",
        "for i in sevenDayForecast:\n",
        "  lists.append(i.text)"
      ],
      "execution_count": 42,
      "outputs": []
    },
    {
      "cell_type": "code",
      "metadata": {
        "id": "G1S7DCKrUeyW",
        "outputId": "0dcbd694-980b-4604-9355-48e5940865fb",
        "colab": {
          "base_uri": "https://localhost:8080/"
        }
      },
      "source": [
        "lists"
      ],
      "execution_count": 43,
      "outputs": [
        {
          "output_type": "execute_result",
          "data": {
            "text/plain": [
              "['\\n\\nToday\\nSunnyHigh: 63 °F\\n\\nTonight\\nMostly ClearLow: 43 °F\\n\\nSunday\\nMostly SunnyHigh: 62 °F\\n\\nSundayNight\\nPartly CloudyLow: 44 °F\\n\\nMonday\\nSunnyHigh: 61 °F\\n\\nMondayNight\\nMostly ClearLow: 45 °F\\n\\nTuesday\\nSunnyHigh: 62 °F\\n\\nTuesdayNight\\nMostly ClearLow: 44 °F\\n\\nWednesday\\nSunnyHigh: 62 °F']"
            ]
          },
          "metadata": {
            "tags": []
          },
          "execution_count": 43
        }
      ]
    },
    {
      "cell_type": "code",
      "metadata": {
        "id": "5NoqA9wCSWjw"
      },
      "source": [
        "days = soup.find_all('p', class_=\"period-name\")"
      ],
      "execution_count": 37,
      "outputs": []
    },
    {
      "cell_type": "code",
      "metadata": {
        "id": "4-4xAFiuT5wX"
      },
      "source": [
        "daysList = []\n",
        "for i in days:\n",
        "  daysList.append(i.text)"
      ],
      "execution_count": 40,
      "outputs": []
    },
    {
      "cell_type": "code",
      "metadata": {
        "id": "2X_8bKD4UYfg",
        "outputId": "f082d6b8-0cae-40a0-8327-9bc4c5eaad28",
        "colab": {
          "base_uri": "https://localhost:8080/"
        }
      },
      "source": [
        "daysList"
      ],
      "execution_count": 41,
      "outputs": [
        {
          "output_type": "execute_result",
          "data": {
            "text/plain": [
              "['Today',\n",
              " 'Tonight',\n",
              " 'Sunday',\n",
              " 'SundayNight',\n",
              " 'Monday',\n",
              " 'MondayNight',\n",
              " 'Tuesday',\n",
              " 'TuesdayNight',\n",
              " 'Wednesday']"
            ]
          },
          "metadata": {
            "tags": []
          },
          "execution_count": 41
        }
      ]
    },
    {
      "cell_type": "code",
      "metadata": {
        "id": "Wu_U5OW6WwfW",
        "outputId": "e161bab4-e859-41da-e806-6e7eb97ef660",
        "colab": {
          "base_uri": "https://localhost:8080/"
        }
      },
      "source": [
        "sevenDayForecast"
      ],
      "execution_count": 82,
      "outputs": [
        {
          "output_type": "execute_result",
          "data": {
            "text/plain": [
              "[<ul class=\"list-unstyled\" id=\"seven-day-forecast-list\"><li class=\"forecast-tombstone\">\n",
              " <div class=\"tombstone-container\">\n",
              " <p class=\"period-name\">Today<br/><br/></p>\n",
              " <p><img alt=\"Today: Sunny, with a high near 63. North northeast wind around 6 mph. \" class=\"forecast-icon\" src=\"newimages/medium/few.png\" title=\"Today: Sunny, with a high near 63. North northeast wind around 6 mph. \"/></p><p class=\"short-desc\">Sunny</p><p class=\"temp temp-high\">High: 63 °F</p></div></li><li class=\"forecast-tombstone\">\n",
              " <div class=\"tombstone-container\">\n",
              " <p class=\"period-name\">Tonight<br/><br/></p>\n",
              " <p><img alt=\"Tonight: Mostly clear, with a low around 43. Calm wind. \" class=\"forecast-icon\" src=\"newimages/medium/nfew.png\" title=\"Tonight: Mostly clear, with a low around 43. Calm wind. \"/></p><p class=\"short-desc\">Mostly Clear</p><p class=\"temp temp-low\">Low: 43 °F</p></div></li><li class=\"forecast-tombstone\">\n",
              " <div class=\"tombstone-container\">\n",
              " <p class=\"period-name\">Sunday<br/><br/></p>\n",
              " <p><img alt=\"Sunday: Mostly sunny, with a high near 62. Calm wind becoming north northeast around 5 mph in the afternoon. \" class=\"forecast-icon\" src=\"newimages/medium/sct.png\" title=\"Sunday: Mostly sunny, with a high near 62. Calm wind becoming north northeast around 5 mph in the afternoon. \"/></p><p class=\"short-desc\">Mostly Sunny</p><p class=\"temp temp-high\">High: 62 °F</p></div></li><li class=\"forecast-tombstone\">\n",
              " <div class=\"tombstone-container\">\n",
              " <p class=\"period-name\">Sunday<br/>Night</p>\n",
              " <p><img alt=\"Sunday Night: Partly cloudy, with a low around 44. Calm wind. \" class=\"forecast-icon\" src=\"newimages/medium/nsct.png\" title=\"Sunday Night: Partly cloudy, with a low around 44. Calm wind. \"/></p><p class=\"short-desc\">Partly Cloudy</p><p class=\"temp temp-low\">Low: 44 °F</p></div></li><li class=\"forecast-tombstone\">\n",
              " <div class=\"tombstone-container\">\n",
              " <p class=\"period-name\">Monday<br/><br/></p>\n",
              " <p><img alt=\"Monday: Sunny, with a high near 61. Calm wind becoming west northwest around 6 mph in the morning. \" class=\"forecast-icon\" src=\"newimages/medium/few.png\" title=\"Monday: Sunny, with a high near 61. Calm wind becoming west northwest around 6 mph in the morning. \"/></p><p class=\"short-desc\">Sunny</p><p class=\"temp temp-high\">High: 61 °F</p></div></li><li class=\"forecast-tombstone\">\n",
              " <div class=\"tombstone-container\">\n",
              " <p class=\"period-name\">Monday<br/>Night</p>\n",
              " <p><img alt=\"Monday Night: Mostly clear, with a low around 45.\" class=\"forecast-icon\" src=\"newimages/medium/nfew.png\" title=\"Monday Night: Mostly clear, with a low around 45.\"/></p><p class=\"short-desc\">Mostly Clear</p><p class=\"temp temp-low\">Low: 45 °F</p></div></li><li class=\"forecast-tombstone\">\n",
              " <div class=\"tombstone-container\">\n",
              " <p class=\"period-name\">Tuesday<br/><br/></p>\n",
              " <p><img alt=\"Tuesday: Sunny, with a high near 62.\" class=\"forecast-icon\" src=\"newimages/medium/few.png\" title=\"Tuesday: Sunny, with a high near 62.\"/></p><p class=\"short-desc\">Sunny</p><p class=\"temp temp-high\">High: 62 °F</p></div></li><li class=\"forecast-tombstone\">\n",
              " <div class=\"tombstone-container\">\n",
              " <p class=\"period-name\">Tuesday<br/>Night</p>\n",
              " <p><img alt=\"Tuesday Night: Mostly clear, with a low around 44.\" class=\"forecast-icon\" src=\"newimages/medium/nfew.png\" title=\"Tuesday Night: Mostly clear, with a low around 44.\"/></p><p class=\"short-desc\">Mostly Clear</p><p class=\"temp temp-low\">Low: 44 °F</p></div></li><li class=\"forecast-tombstone\">\n",
              " <div class=\"tombstone-container\">\n",
              " <p class=\"period-name\">Wednesday<br/><br/></p>\n",
              " <p><img alt=\"Wednesday: Sunny, with a high near 62.\" class=\"forecast-icon\" src=\"newimages/medium/few.png\" title=\"Wednesday: Sunny, with a high near 62.\"/></p><p class=\"short-desc\">Sunny</p><p class=\"temp temp-high\">High: 62 °F</p></div></li></ul>]"
            ]
          },
          "metadata": {
            "tags": []
          },
          "execution_count": 82
        }
      ]
    },
    {
      "cell_type": "code",
      "metadata": {
        "id": "UyD2zTd-Q9NL"
      },
      "source": [
        "#days = soup.find_all('p', class_=\"period-name\")"
      ],
      "execution_count": null,
      "outputs": []
    },
    {
      "cell_type": "code",
      "metadata": {
        "id": "1HglqlDuP01T"
      },
      "source": [
        "description = []\n",
        "for i in sevenDayForecast:\n",
        "  for desc in i.find_all('img', alt=True) :\n",
        "    description.append(desc)\n",
        "\n",
        "  \n"
      ],
      "execution_count": 51,
      "outputs": []
    },
    {
      "cell_type": "code",
      "metadata": {
        "id": "JVqcNhLEYpBQ",
        "outputId": "84b3324b-9535-4476-c75b-32f3d7d9df82",
        "colab": {
          "base_uri": "https://localhost:8080/"
        }
      },
      "source": [
        "description"
      ],
      "execution_count": 58,
      "outputs": [
        {
          "output_type": "execute_result",
          "data": {
            "text/plain": [
              "[<img alt=\"Today: Sunny, with a high near 63. North northeast wind around 6 mph. \" class=\"forecast-icon\" src=\"newimages/medium/few.png\" title=\"Today: Sunny, with a high near 63. North northeast wind around 6 mph. \"/>,\n",
              " <img alt=\"Tonight: Mostly clear, with a low around 43. Calm wind. \" class=\"forecast-icon\" src=\"newimages/medium/nfew.png\" title=\"Tonight: Mostly clear, with a low around 43. Calm wind. \"/>,\n",
              " <img alt=\"Sunday: Mostly sunny, with a high near 62. Calm wind becoming north northeast around 5 mph in the afternoon. \" class=\"forecast-icon\" src=\"newimages/medium/sct.png\" title=\"Sunday: Mostly sunny, with a high near 62. Calm wind becoming north northeast around 5 mph in the afternoon. \"/>,\n",
              " <img alt=\"Sunday Night: Partly cloudy, with a low around 44. Calm wind. \" class=\"forecast-icon\" src=\"newimages/medium/nsct.png\" title=\"Sunday Night: Partly cloudy, with a low around 44. Calm wind. \"/>,\n",
              " <img alt=\"Monday: Sunny, with a high near 61. Calm wind becoming west northwest around 6 mph in the morning. \" class=\"forecast-icon\" src=\"newimages/medium/few.png\" title=\"Monday: Sunny, with a high near 61. Calm wind becoming west northwest around 6 mph in the morning. \"/>,\n",
              " <img alt=\"Monday Night: Mostly clear, with a low around 45.\" class=\"forecast-icon\" src=\"newimages/medium/nfew.png\" title=\"Monday Night: Mostly clear, with a low around 45.\"/>,\n",
              " <img alt=\"Tuesday: Sunny, with a high near 62.\" class=\"forecast-icon\" src=\"newimages/medium/few.png\" title=\"Tuesday: Sunny, with a high near 62.\"/>,\n",
              " <img alt=\"Tuesday Night: Mostly clear, with a low around 44.\" class=\"forecast-icon\" src=\"newimages/medium/nfew.png\" title=\"Tuesday Night: Mostly clear, with a low around 44.\"/>,\n",
              " <img alt=\"Wednesday: Sunny, with a high near 62.\" class=\"forecast-icon\" src=\"newimages/medium/few.png\" title=\"Wednesday: Sunny, with a high near 62.\"/>]"
            ]
          },
          "metadata": {
            "tags": []
          },
          "execution_count": 58
        }
      ]
    },
    {
      "cell_type": "code",
      "metadata": {
        "id": "p-scOw0LUoR9"
      },
      "source": [
        "longDesc = list()\n",
        "for contents in description:\n",
        "  longDesc.append(contents.get('title'))"
      ],
      "execution_count": 61,
      "outputs": []
    },
    {
      "cell_type": "code",
      "metadata": {
        "id": "MVzAw_meZnDl",
        "outputId": "6821c52c-bff0-46ee-9b59-51628c6e48b9",
        "colab": {
          "base_uri": "https://localhost:8080/"
        }
      },
      "source": [
        "longDesc"
      ],
      "execution_count": 67,
      "outputs": [
        {
          "output_type": "execute_result",
          "data": {
            "text/plain": [
              "['Today: Sunny, with a high near 63. North northeast wind around 6 mph. ',\n",
              " 'Tonight: Mostly clear, with a low around 43. Calm wind. ',\n",
              " 'Sunday: Mostly sunny, with a high near 62. Calm wind becoming north northeast around 5 mph in the afternoon. ',\n",
              " 'Sunday Night: Partly cloudy, with a low around 44. Calm wind. ',\n",
              " 'Monday: Sunny, with a high near 61. Calm wind becoming west northwest around 6 mph in the morning. ',\n",
              " 'Monday Night: Mostly clear, with a low around 45.',\n",
              " 'Tuesday: Sunny, with a high near 62.',\n",
              " 'Tuesday Night: Mostly clear, with a low around 44.',\n",
              " 'Wednesday: Sunny, with a high near 62.']"
            ]
          },
          "metadata": {
            "tags": []
          },
          "execution_count": 67
        }
      ]
    },
    {
      "cell_type": "code",
      "metadata": {
        "id": "DUqPrusJckmI"
      },
      "source": [
        "short_description = []\n",
        "for i in sevenDayForecast:\n",
        "  for desc in i.find_all('p', class_=\"short-desc\"):\n",
        "    short_description.append(desc)"
      ],
      "execution_count": 97,
      "outputs": []
    },
    {
      "cell_type": "code",
      "metadata": {
        "id": "8gTuqiC5dOhQ"
      },
      "source": [
        "\n",
        "shortDesc = list()\n",
        "for contents in short_description:\n",
        "  shortDesc.append(contents.text)"
      ],
      "execution_count": 101,
      "outputs": []
    },
    {
      "cell_type": "code",
      "metadata": {
        "id": "ZpSg7S37dYop",
        "outputId": "33f6357a-c450-4deb-9726-e7e6dd5d3aae",
        "colab": {
          "base_uri": "https://localhost:8080/"
        }
      },
      "source": [
        "shortDesc"
      ],
      "execution_count": 102,
      "outputs": [
        {
          "output_type": "execute_result",
          "data": {
            "text/plain": [
              "['Sunny',\n",
              " 'Mostly Clear',\n",
              " 'Mostly Sunny',\n",
              " 'Partly Cloudy',\n",
              " 'Sunny',\n",
              " 'Mostly Clear',\n",
              " 'Sunny',\n",
              " 'Mostly Clear',\n",
              " 'Sunny']"
            ]
          },
          "metadata": {
            "tags": []
          },
          "execution_count": 102
        }
      ]
    },
    {
      "cell_type": "code",
      "metadata": {
        "id": "u_oeWfR3agYW"
      },
      "source": [
        "temp_details = []\n",
        "for i in sevenDayForecast:\n",
        "  for desc in i.find_all('p', class_=\"temp\"):\n",
        "    temp_details.append(desc)"
      ],
      "execution_count": 109,
      "outputs": []
    },
    {
      "cell_type": "code",
      "metadata": {
        "id": "42lECrxuefRr"
      },
      "source": [
        "\n",
        "temp = list()\n",
        "for contents in temp_details:\n",
        "  temp.append(contents.text)"
      ],
      "execution_count": 110,
      "outputs": []
    },
    {
      "cell_type": "code",
      "metadata": {
        "id": "8RK60BQoeiqG",
        "outputId": "d809077b-d52b-47ac-f901-03f4a06a135c",
        "colab": {
          "base_uri": "https://localhost:8080/"
        }
      },
      "source": [
        "temp"
      ],
      "execution_count": 111,
      "outputs": [
        {
          "output_type": "execute_result",
          "data": {
            "text/plain": [
              "['High: 63 °F',\n",
              " 'Low: 43 °F',\n",
              " 'High: 62 °F',\n",
              " 'Low: 44 °F',\n",
              " 'High: 61 °F',\n",
              " 'Low: 45 °F',\n",
              " 'High: 62 °F',\n",
              " 'Low: 44 °F',\n",
              " 'High: 62 °F']"
            ]
          },
          "metadata": {
            "tags": []
          },
          "execution_count": 111
        }
      ]
    },
    {
      "cell_type": "code",
      "metadata": {
        "id": "KSRul6RVZhig"
      },
      "source": [
        "finalDF = pd.DataFrame([daysList,shortDesc,longDesc,temp])"
      ],
      "execution_count": 112,
      "outputs": []
    },
    {
      "cell_type": "code",
      "metadata": {
        "id": "YpM7yEseeiWI"
      },
      "source": [
        ""
      ],
      "execution_count": 112,
      "outputs": []
    },
    {
      "cell_type": "code",
      "metadata": {
        "id": "pEeObt0obDPK",
        "outputId": "89912b7e-c686-42d5-a918-e13131abd0ee",
        "colab": {
          "base_uri": "https://localhost:8080/",
          "height": 209
        }
      },
      "source": [
        "finalDF"
      ],
      "execution_count": 113,
      "outputs": [
        {
          "output_type": "execute_result",
          "data": {
            "text/html": [
              "<div>\n",
              "<style scoped>\n",
              "    .dataframe tbody tr th:only-of-type {\n",
              "        vertical-align: middle;\n",
              "    }\n",
              "\n",
              "    .dataframe tbody tr th {\n",
              "        vertical-align: top;\n",
              "    }\n",
              "\n",
              "    .dataframe thead th {\n",
              "        text-align: right;\n",
              "    }\n",
              "</style>\n",
              "<table border=\"1\" class=\"dataframe\">\n",
              "  <thead>\n",
              "    <tr style=\"text-align: right;\">\n",
              "      <th></th>\n",
              "      <th>0</th>\n",
              "      <th>1</th>\n",
              "      <th>2</th>\n",
              "      <th>3</th>\n",
              "      <th>4</th>\n",
              "      <th>5</th>\n",
              "      <th>6</th>\n",
              "      <th>7</th>\n",
              "      <th>8</th>\n",
              "    </tr>\n",
              "  </thead>\n",
              "  <tbody>\n",
              "    <tr>\n",
              "      <th>0</th>\n",
              "      <td>Today</td>\n",
              "      <td>Tonight</td>\n",
              "      <td>Sunday</td>\n",
              "      <td>SundayNight</td>\n",
              "      <td>Monday</td>\n",
              "      <td>MondayNight</td>\n",
              "      <td>Tuesday</td>\n",
              "      <td>TuesdayNight</td>\n",
              "      <td>Wednesday</td>\n",
              "    </tr>\n",
              "    <tr>\n",
              "      <th>1</th>\n",
              "      <td>Sunny</td>\n",
              "      <td>Mostly Clear</td>\n",
              "      <td>Mostly Sunny</td>\n",
              "      <td>Partly Cloudy</td>\n",
              "      <td>Sunny</td>\n",
              "      <td>Mostly Clear</td>\n",
              "      <td>Sunny</td>\n",
              "      <td>Mostly Clear</td>\n",
              "      <td>Sunny</td>\n",
              "    </tr>\n",
              "    <tr>\n",
              "      <th>2</th>\n",
              "      <td>Today: Sunny, with a high near 63. North north...</td>\n",
              "      <td>Tonight: Mostly clear, with a low around 43. C...</td>\n",
              "      <td>Sunday: Mostly sunny, with a high near 62. Cal...</td>\n",
              "      <td>Sunday Night: Partly cloudy, with a low around...</td>\n",
              "      <td>Monday: Sunny, with a high near 61. Calm wind ...</td>\n",
              "      <td>Monday Night: Mostly clear, with a low around 45.</td>\n",
              "      <td>Tuesday: Sunny, with a high near 62.</td>\n",
              "      <td>Tuesday Night: Mostly clear, with a low around...</td>\n",
              "      <td>Wednesday: Sunny, with a high near 62.</td>\n",
              "    </tr>\n",
              "    <tr>\n",
              "      <th>3</th>\n",
              "      <td>High: 63 °F</td>\n",
              "      <td>Low: 43 °F</td>\n",
              "      <td>High: 62 °F</td>\n",
              "      <td>Low: 44 °F</td>\n",
              "      <td>High: 61 °F</td>\n",
              "      <td>Low: 45 °F</td>\n",
              "      <td>High: 62 °F</td>\n",
              "      <td>Low: 44 °F</td>\n",
              "      <td>High: 62 °F</td>\n",
              "    </tr>\n",
              "  </tbody>\n",
              "</table>\n",
              "</div>"
            ],
            "text/plain": [
              "                                                   0  ...                                       8\n",
              "0                                              Today  ...                               Wednesday\n",
              "1                                              Sunny  ...                                   Sunny\n",
              "2  Today: Sunny, with a high near 63. North north...  ...  Wednesday: Sunny, with a high near 62.\n",
              "3                                        High: 63 °F  ...                             High: 62 °F\n",
              "\n",
              "[4 rows x 9 columns]"
            ]
          },
          "metadata": {
            "tags": []
          },
          "execution_count": 113
        }
      ]
    },
    {
      "cell_type": "code",
      "metadata": {
        "id": "JDDWrj-MaOm6",
        "outputId": "60676f1f-7785-49f4-cbca-e7a5ae014b97",
        "colab": {
          "base_uri": "https://localhost:8080/",
          "height": 331
        }
      },
      "source": [
        "finalDF.T"
      ],
      "execution_count": 114,
      "outputs": [
        {
          "output_type": "execute_result",
          "data": {
            "text/html": [
              "<div>\n",
              "<style scoped>\n",
              "    .dataframe tbody tr th:only-of-type {\n",
              "        vertical-align: middle;\n",
              "    }\n",
              "\n",
              "    .dataframe tbody tr th {\n",
              "        vertical-align: top;\n",
              "    }\n",
              "\n",
              "    .dataframe thead th {\n",
              "        text-align: right;\n",
              "    }\n",
              "</style>\n",
              "<table border=\"1\" class=\"dataframe\">\n",
              "  <thead>\n",
              "    <tr style=\"text-align: right;\">\n",
              "      <th></th>\n",
              "      <th>0</th>\n",
              "      <th>1</th>\n",
              "      <th>2</th>\n",
              "      <th>3</th>\n",
              "    </tr>\n",
              "  </thead>\n",
              "  <tbody>\n",
              "    <tr>\n",
              "      <th>0</th>\n",
              "      <td>Today</td>\n",
              "      <td>Sunny</td>\n",
              "      <td>Today: Sunny, with a high near 63. North north...</td>\n",
              "      <td>High: 63 °F</td>\n",
              "    </tr>\n",
              "    <tr>\n",
              "      <th>1</th>\n",
              "      <td>Tonight</td>\n",
              "      <td>Mostly Clear</td>\n",
              "      <td>Tonight: Mostly clear, with a low around 43. C...</td>\n",
              "      <td>Low: 43 °F</td>\n",
              "    </tr>\n",
              "    <tr>\n",
              "      <th>2</th>\n",
              "      <td>Sunday</td>\n",
              "      <td>Mostly Sunny</td>\n",
              "      <td>Sunday: Mostly sunny, with a high near 62. Cal...</td>\n",
              "      <td>High: 62 °F</td>\n",
              "    </tr>\n",
              "    <tr>\n",
              "      <th>3</th>\n",
              "      <td>SundayNight</td>\n",
              "      <td>Partly Cloudy</td>\n",
              "      <td>Sunday Night: Partly cloudy, with a low around...</td>\n",
              "      <td>Low: 44 °F</td>\n",
              "    </tr>\n",
              "    <tr>\n",
              "      <th>4</th>\n",
              "      <td>Monday</td>\n",
              "      <td>Sunny</td>\n",
              "      <td>Monday: Sunny, with a high near 61. Calm wind ...</td>\n",
              "      <td>High: 61 °F</td>\n",
              "    </tr>\n",
              "    <tr>\n",
              "      <th>5</th>\n",
              "      <td>MondayNight</td>\n",
              "      <td>Mostly Clear</td>\n",
              "      <td>Monday Night: Mostly clear, with a low around 45.</td>\n",
              "      <td>Low: 45 °F</td>\n",
              "    </tr>\n",
              "    <tr>\n",
              "      <th>6</th>\n",
              "      <td>Tuesday</td>\n",
              "      <td>Sunny</td>\n",
              "      <td>Tuesday: Sunny, with a high near 62.</td>\n",
              "      <td>High: 62 °F</td>\n",
              "    </tr>\n",
              "    <tr>\n",
              "      <th>7</th>\n",
              "      <td>TuesdayNight</td>\n",
              "      <td>Mostly Clear</td>\n",
              "      <td>Tuesday Night: Mostly clear, with a low around...</td>\n",
              "      <td>Low: 44 °F</td>\n",
              "    </tr>\n",
              "    <tr>\n",
              "      <th>8</th>\n",
              "      <td>Wednesday</td>\n",
              "      <td>Sunny</td>\n",
              "      <td>Wednesday: Sunny, with a high near 62.</td>\n",
              "      <td>High: 62 °F</td>\n",
              "    </tr>\n",
              "  </tbody>\n",
              "</table>\n",
              "</div>"
            ],
            "text/plain": [
              "              0  ...            3\n",
              "0         Today  ...  High: 63 °F\n",
              "1       Tonight  ...   Low: 43 °F\n",
              "2        Sunday  ...  High: 62 °F\n",
              "3   SundayNight  ...   Low: 44 °F\n",
              "4        Monday  ...  High: 61 °F\n",
              "5   MondayNight  ...   Low: 45 °F\n",
              "6       Tuesday  ...  High: 62 °F\n",
              "7  TuesdayNight  ...   Low: 44 °F\n",
              "8     Wednesday  ...  High: 62 °F\n",
              "\n",
              "[9 rows x 4 columns]"
            ]
          },
          "metadata": {
            "tags": []
          },
          "execution_count": 114
        }
      ]
    },
    {
      "cell_type": "code",
      "metadata": {
        "id": "u95kMTrOau14"
      },
      "source": [
        ""
      ],
      "execution_count": null,
      "outputs": []
    }
  ]
}