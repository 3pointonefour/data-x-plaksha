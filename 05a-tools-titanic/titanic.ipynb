{
  "nbformat": 4,
  "nbformat_minor": 0,
  "metadata": {
    "anaconda-cloud": {},
    "kernelspec": {
      "display_name": "Python 3",
      "language": "python",
      "name": "python3"
    },
    "language_info": {
      "codemirror_mode": {
        "name": "ipython",
        "version": 3
      },
      "file_extension": ".py",
      "mimetype": "text/x-python",
      "name": "python",
      "nbconvert_exporter": "python",
      "pygments_lexer": "ipython3",
      "version": "3.7.4"
    },
    "colab": {
      "name": "titanic.ipynb",
      "provenance": []
    }
  },
  "cells": [
    {
      "cell_type": "markdown",
      "metadata": {
        "id": "3pmdc2_WaEKk"
      },
      "source": [
        "![data-x](https://raw.githubusercontent.com/afo/data-x-plaksha/master/imgsource/dx_logo.png)\n",
        "\n",
        "\n",
        "# __Titanic Survivor Analysis__\n",
        "\n",
        "#### Author: Several publc Kaggle Kernels\n",
        "#### Edits: Alexander Fred Ojala, Kevin Li, and Elias Castro Hernandez\n",
        "\n",
        "**Sources:** \n",
        "* **Training + explanations**: https://www.kaggle.com/c/titanic\n",
        "\n",
        "___\n",
        "___\n"
      ]
    },
    {
      "cell_type": "markdown",
      "metadata": {
        "id": "M_QblsBGaEKk"
      },
      "source": [
        "\n",
        "# Understanding the connections between passanger information and survival rate\n",
        "\n",
        "The sinking of the RMS Titanic is one of the most infamous shipwrecks in history.  On April 15, 1912, during her maiden voyage, the Titanic sank after colliding with an iceberg, killing 1502 out of 2224 passengers and crew. This sensational tragedy shocked the international community and led to better safety regulations for ships.\n",
        "\n",
        "One of the reasons that the shipwreck led to such loss of life was that there were not enough lifeboats for the passengers and crew. Although there was some element of luck involved in surviving the sinking, some groups of people were more likely to survive than others, such as women, children, and the upper-class.\n",
        "\n",
        "<br>\n",
        "The data conists of passanger information for the maiden, and tragic, voyage of the Titanic ocean liner. The set is comprised of 1309 unique entries, each associated with information realated to a passanger. The set is broken is broken down to 891/328 (testing/training) split for the purposes of modeling\n",
        "\n",
        "**Our task is to train a machine learning model on the training set in order to predict if the passengers in the test set survived or not.**\n",
        "\n",
        "<br>\n",
        "\n",
        "### Table of Contents\n",
        "\n",
        "> #### [Part 0: Install Additional Required Software](#Part-0:-Install-Additional-Required-Software)\n",
        "\n",
        "> #### [Part 1: Import Packages + Libraries + Dependencies](#Part-1:-Import-Packages-+-Libraries-+-Dependencies)\n",
        "\n",
        "> #### [Part 2: Preprocessing and Exploratory Data Anlysis](#Part-2:-Preprocessing-and-Exploratory-Data-Anlysis)\n",
        "\n",
        "> #### [Part 3: Establishing a Hypothesis](#Part-3:-Establishing-a-Hypothesis)\n",
        "\n",
        "> #### [Part 4: Machine Learning!](#Part-4:-Machine-Learning!)\n",
        "\n",
        "### Additional Material\n",
        "\n",
        "> #### [Appendix I: Why are our models maxing out at around 80%?](#Appendix-I:-Why-are-our-models-maxing-out-at-around-80%?)\n",
        "\n",
        "> #### [Appendix II: Resources and references to material we won't cover in detail](#Appendix-II:-Resources-and-references-to-material-we-won't-cover-in-detail)\n",
        "\n",
        "<br>\n",
        "\n",
        "___\n",
        "___"
      ]
    },
    {
      "cell_type": "markdown",
      "metadata": {
        "id": "W2Vr9UWiaEKk"
      },
      "source": [
        "<a id='sec1'></a>\n",
        "\n",
        "## Part 0: Install Additional Required Software\n",
        "\n",
        "__Note:__To follow along with notebook, you will need to install the __xgboost__ package in your pyhton enviroment:\n",
        "\n",
        "try (in terminal):\n",
        "```\n",
        "$ conda install py-xgboost\n",
        "```\n",
        "\n",
        "or \n",
        "\n",
        "try (directly in notebook)\n",
        "```\n",
        "!conda install py-xgboost --y\n",
        "```"
      ]
    },
    {
      "cell_type": "markdown",
      "metadata": {
        "id": "W3_aUYqaaEKk"
      },
      "source": [
        "<a id='sec2'></a>\n",
        "___\n",
        "## Part 1: Import Packages + Libraries + Dependencies"
      ]
    },
    {
      "cell_type": "markdown",
      "metadata": {
        "id": "0CxbAvf4aEKk"
      },
      "source": [
        "### Import packages"
      ]
    },
    {
      "cell_type": "code",
      "metadata": {
        "id": "GhYeuQ0qaEKk"
      },
      "source": [
        "# No warnings\n",
        "import warnings\n",
        "warnings.filterwarnings('ignore') # Filter out warnings\n",
        "\n",
        "# data analysis and wrangling\n",
        "import pandas as pd\n",
        "import numpy as np\n",
        "\n",
        "# visualization\n",
        "import matplotlib.pyplot as plt\n",
        "%matplotlib inline\n",
        "import seaborn as sns\n",
        "\n",
        "# machine learning\n",
        "from sklearn.linear_model import LogisticRegression\n",
        "from sklearn.svm import SVC, LinearSVC\n",
        "from sklearn.ensemble import RandomForestClassifier\n",
        "from sklearn.neighbors import KNeighborsClassifier\n",
        "from sklearn.naive_bayes import GaussianNB # Gaussian Naive Bays\n",
        "from sklearn.linear_model import Perceptron\n",
        "from sklearn.tree import DecisionTreeClassifier\n",
        "\n",
        "import xgboost as xgb"
      ],
      "execution_count": null,
      "outputs": []
    },
    {
      "cell_type": "markdown",
      "metadata": {
        "id": "JuWK8po3aEKk"
      },
      "source": [
        "### Styling and fancy distribution plot"
      ]
    },
    {
      "cell_type": "code",
      "metadata": {
        "id": "htZFYjm0aEKk"
      },
      "source": [
        "# Plot styling and display options\n",
        "sns.set(style='white', context='notebook', palette='deep')\n",
        "plt.rcParams[ 'figure.figsize' ] = 10 , 6\n",
        "\n",
        "pd.set_option('display.max_columns', 100) # Print 100 Pandas columns\n",
        "\n",
        "# Special distribution plot (will be used later)\n",
        "def plot_distribution( df , var , target , **kwargs ):\n",
        "    row = kwargs.get( 'row' , None )\n",
        "    col = kwargs.get( 'col' , None )\n",
        "    facet = sns.FacetGrid( df , hue=target , aspect=4 , row = row , col = col )\n",
        "    facet.map( sns.kdeplot , var , shade= True )\n",
        "    facet.set( xlim=( 0 , df[ var ].max() ) )\n",
        "    facet.add_legend()\n",
        "    plt.tight_layout()"
      ],
      "execution_count": null,
      "outputs": []
    },
    {
      "cell_type": "markdown",
      "metadata": {
        "id": "MPC3MEOmaEKk"
      },
      "source": [
        "### Load Data"
      ]
    },
    {
      "cell_type": "code",
      "metadata": {
        "id": "BeTw4uTVaEKk"
      },
      "source": [
        "!head data/train.csv"
      ],
      "execution_count": null,
      "outputs": []
    },
    {
      "cell_type": "code",
      "metadata": {
        "id": "1U-6Ff1gaEKl"
      },
      "source": [
        "train_df = pd.read_csv('data/train.csv')\n",
        "test_df = pd.read_csv('data/test.csv')\n",
        "combine = [train_df, test_df]\n",
        "# combine is used to ensure whatever preprocessing is done on training data\n",
        "# is also done on test data\n",
        "\n",
        "# NOTE! When we change train_df or test_df the objects in combine \n",
        "# will also change (combine is only a pointer to the objects)"
      ],
      "execution_count": null,
      "outputs": []
    },
    {
      "cell_type": "markdown",
      "metadata": {
        "id": "AOUDDLooaEKl"
      },
      "source": [
        "<a id='sec3'></a>\n",
        "___\n",
        "## Part 2: Exploring and Preprocessing the Data\n",
        "**Data descriptions**\n",
        "\n",
        "<img src=\"https://github.com/3pointonefour/data-x-plaksha/blob/master/05a-tools-titanic/data/Titanic_Variable.png?raw=1\">"
      ]
    },
    {
      "cell_type": "code",
      "metadata": {
        "id": "Z3IOgv5yaEKl"
      },
      "source": [
        "# Features/Variable names\n",
        "\n",
        "train_df.columns"
      ],
      "execution_count": null,
      "outputs": []
    },
    {
      "cell_type": "code",
      "metadata": {
        "id": "P3ugLaRjaEKl"
      },
      "source": [
        "# preview the data\n",
        "\n",
        "train_df.head(5)"
      ],
      "execution_count": null,
      "outputs": []
    },
    {
      "cell_type": "code",
      "metadata": {
        "id": "dbrsvOrsaEKl"
      },
      "source": [
        "# General data statistics\n",
        "\n",
        "train_df.describe()"
      ],
      "execution_count": null,
      "outputs": []
    },
    {
      "cell_type": "code",
      "metadata": {
        "id": "st-_i41EaEKl"
      },
      "source": [
        "# Data Frame information (null, data type etc)\n",
        "\n",
        "train_df.info()"
      ],
      "execution_count": null,
      "outputs": []
    },
    {
      "cell_type": "markdown",
      "metadata": {
        "id": "XtM1Au0WaEKl"
      },
      "source": [
        "### Histograms"
      ]
    },
    {
      "cell_type": "code",
      "metadata": {
        "id": "wlk3prBYaEKl"
      },
      "source": [
        "train_df.hist(figsize=(13,10))\n",
        "plt.show()"
      ],
      "execution_count": null,
      "outputs": []
    },
    {
      "cell_type": "markdown",
      "metadata": {
        "id": "RafgmqnvaEKl"
      },
      "source": [
        "### Insights into the data"
      ]
    },
    {
      "cell_type": "code",
      "metadata": {
        "id": "2vAByGCAaEKl"
      },
      "source": [
        "train_df[['Pclass', 'Survived']].groupby(['Pclass']).mean()"
      ],
      "execution_count": null,
      "outputs": []
    },
    {
      "cell_type": "markdown",
      "metadata": {
        "id": "1bf7YSW-aEKl"
      },
      "source": [
        "# Balanced data set?"
      ]
    },
    {
      "cell_type": "code",
      "metadata": {
        "id": "uFHTAa0HaEKl"
      },
      "source": [
        "# Balanced data set?\n",
        "\n",
        "target_count = train_df['Survived'].value_counts()\n",
        "target_count"
      ],
      "execution_count": null,
      "outputs": []
    },
    {
      "cell_type": "markdown",
      "metadata": {
        "id": "WJ5fYxPFaEKl"
      },
      "source": [
        "__Note:__ If the goal is Prediction, unbalanced data introduce bias into model. \n",
        "\n",
        "Balanced data are good for classification, but you loose information such as appearance frequencies -- which may affect accuracy metrics themselves, as well as production performance."
      ]
    },
    {
      "cell_type": "code",
      "metadata": {
        "id": "_1hod8ufaEKl"
      },
      "source": [
        "# What is base line for prediction accuracy?\n",
        "\n",
        "target_count[0]/(sum(target_count)) "
      ],
      "execution_count": null,
      "outputs": []
    },
    {
      "cell_type": "markdown",
      "metadata": {
        "id": "U2d4Z-phaEKl"
      },
      "source": [
        "___\n",
        "\n",
        "> #### __Brief Remarks Regarding the Data__\n",
        "\n",
        "> * `PassengerId` is a random number (incrementing index) and thus does not contain any valuable information. \n",
        "\n",
        "> * `Survived, Passenger Class, Age, Siblings Spouses, Parents Children` and `Fare` are numerical values (no need to transform them) -- but, we might want to group them (i.e. create categorical variables). \n",
        "\n",
        "> * `Sex, Embarked` are categorical features that we need to map to integer values. `Name, Ticket` and `Cabin` might also contain valuable information.\n",
        "\n",
        "___"
      ]
    },
    {
      "cell_type": "markdown",
      "metadata": {
        "id": "wwfB_lXmaEKl"
      },
      "source": [
        "### Droping Redundant Data\n",
        "__Note:__ It is important to remove variables that convey information already captured by some other variable. Doing so removes the correlation, while also diminishing potential overfit."
      ]
    },
    {
      "cell_type": "code",
      "metadata": {
        "id": "t5PD5tKhaEKl"
      },
      "source": [
        "# Check dimensions of the train and test datasets\n",
        "\n",
        "print(\"Shapes Before: (train) (test) = \", \\\n",
        "      train_df.shape, test_df.shape)"
      ],
      "execution_count": null,
      "outputs": []
    },
    {
      "cell_type": "code",
      "metadata": {
        "id": "WWCjjU_yaEKl"
      },
      "source": [
        "# Drop columns 'Ticket', 'Cabin', need to do it for both test and training\n",
        "\n",
        "train_df = train_df.drop(['PassengerId','Ticket', 'Cabin'], axis=1)\n",
        "test_df = test_df.drop(['Ticket', 'Cabin'], axis=1)\n",
        "combine = [train_df, test_df]\n",
        "\n",
        "print(\"Shapes After: (train) (test) =\", train_df.shape, test_df.shape)"
      ],
      "execution_count": null,
      "outputs": []
    },
    {
      "cell_type": "code",
      "metadata": {
        "id": "NguuN49KaEKl"
      },
      "source": [
        "# Check if there are null values in the datasets\n",
        "\n",
        "print(train_df.isnull().sum())\n",
        "print()\n",
        "print(test_df.isnull().sum())\n"
      ],
      "execution_count": null,
      "outputs": []
    },
    {
      "cell_type": "markdown",
      "metadata": {
        "id": "6xq5vx2laEKl"
      },
      "source": [
        "<a id='sec4'></a>\n",
        "____\n",
        "## Part 3: Establishing Hypotheses\n",
        "\n",
        "### _The Title of the person is a feature that can predict survival_"
      ]
    },
    {
      "cell_type": "code",
      "metadata": {
        "id": "g_545p58aEKl"
      },
      "source": [
        "# List example titles in Name column\n",
        "\n",
        "train_df.Name[:5]"
      ],
      "execution_count": null,
      "outputs": []
    },
    {
      "cell_type": "code",
      "metadata": {
        "id": "ENcor1nXaEKm"
      },
      "source": [
        "# from the Name column we will extract title of each passenger\n",
        "# and save that in a column in the dataset called 'Title'\n",
        "# if you want to match Titles or Names with any other expression\n",
        "# refer to this tutorial on regex in python:\n",
        "# https://www.tutorialspoint.com/python/python_reg_expressions.htm\n",
        "\n",
        "# Create column called Title\n",
        "\n",
        "for dataset in combine:\n",
        "    dataset['Title'] = dataset['Name'].str.extract(' ([A-Za-z]+)\\.',\\\n",
        "                                                expand=False)"
      ],
      "execution_count": null,
      "outputs": []
    },
    {
      "cell_type": "code",
      "metadata": {
        "id": "QFNiVt4RaEKm"
      },
      "source": [
        "# Double check that our titles makes sense (by comparing to sex)\n",
        "\n",
        "pd.crosstab(train_df['Title'], train_df['Sex'])"
      ],
      "execution_count": null,
      "outputs": []
    },
    {
      "cell_type": "markdown",
      "metadata": {
        "id": "J8BTDY5haEKm"
      },
      "source": [
        ">___\n",
        "> #### __Jonkheer?__ \n",
        "\n",
        "> Most popular during medieval times, the title of _Jonkheer_ was given to a young and unmarried child of a high-ranking knight or nobleman -- __Considered the lowest rank of nobility.__\n",
        "\n",
        ">___"
      ]
    },
    {
      "cell_type": "code",
      "metadata": {
        "id": "RslvkVRwaEKm"
      },
      "source": [
        "# same but for test set\n",
        "pd.crosstab(test_df['Title'], test_df['Sex'])"
      ],
      "execution_count": null,
      "outputs": []
    },
    {
      "cell_type": "code",
      "metadata": {
        "id": "GgD7d2sOaEKm"
      },
      "source": [
        "# We see common titles like Miss, Mrs, Mr, Master are dominant, we will\n",
        "# correct some Titles to standard forms and replace the rarest titles \n",
        "# with single name 'Rare'\n",
        "\n",
        "for dataset in combine:\n",
        "    dataset['Title'] = dataset['Title'].\\\n",
        "                  replace(['Lady', 'Countess','Capt', 'Col', 'Don', 'Dr',\\\n",
        "                 'Major', 'Rev', 'Sir', 'Jonkheer', 'Dona'], 'Rare')\n",
        "\n",
        "    dataset['Title'] = dataset['Title'].replace('Mlle', 'Miss') #Mademoiselle\n",
        "    dataset['Title'] = dataset['Title'].replace('Ms', 'Miss')\n",
        "    dataset['Title'] = dataset['Title'].replace('Mme', 'Mrs') #Madame"
      ],
      "execution_count": null,
      "outputs": []
    },
    {
      "cell_type": "code",
      "metadata": {
        "id": "M7PRPHEiaEKm"
      },
      "source": [
        "# We now have more logical (contemporary) titles, and fewer groups\n",
        "\n",
        "train_df[['Title', 'Survived']].groupby(['Title']).mean()"
      ],
      "execution_count": null,
      "outputs": []
    },
    {
      "cell_type": "code",
      "metadata": {
        "id": "qCZnH6KNaEKm"
      },
      "source": [
        "# We can plot the survival chance for each title\n",
        "\n",
        "sns.countplot(x='Survived', hue=\"Title\", data=train_df, order=[1,0])\n",
        "plt.xticks(range(2),['Made it','Deceased']);"
      ],
      "execution_count": null,
      "outputs": []
    },
    {
      "cell_type": "code",
      "metadata": {
        "id": "cATlS9l4aEKm"
      },
      "source": [
        "# Title dummy mapping: Map titles to binary dummy columns\n",
        "\n",
        "for dataset in combine:\n",
        "    binary_encoded = pd.get_dummies(dataset.Title)\n",
        "    newcols = binary_encoded.columns\n",
        "    dataset[newcols] = binary_encoded\n",
        "\n",
        "train_df.head()"
      ],
      "execution_count": null,
      "outputs": []
    },
    {
      "cell_type": "code",
      "metadata": {
        "id": "-ePVWjQAaEKm"
      },
      "source": [
        "# Remove unique variables for analysis (Title is generally bound to Name, so it's also dropped)\n",
        "\n",
        "train_df = train_df.drop(['Name', 'Title'], axis=1)\n",
        "test_df = test_df.drop(['Name', 'Title'], axis=1)\n",
        "combine = [train_df, test_df]"
      ],
      "execution_count": null,
      "outputs": []
    },
    {
      "cell_type": "code",
      "metadata": {
        "id": "ACA0HRFvaEKm"
      },
      "source": [
        "# sanity check\n",
        "\n",
        "train_df.head()"
      ],
      "execution_count": null,
      "outputs": []
    },
    {
      "cell_type": "markdown",
      "metadata": {
        "id": "N7l_T0WtaEKm"
      },
      "source": [
        "### Map Sex column to binary (male = 0, female = 1) categories"
      ]
    },
    {
      "cell_type": "code",
      "metadata": {
        "id": "t9pJZqqfaEKm"
      },
      "source": [
        "# convert categorical variable to numeric\n",
        "for dataset in combine:\n",
        "    dataset['Sex'] = dataset['Sex']. \\\n",
        "        map( {'female': 1, 'male': 0} ).astype(int)\n",
        "\n",
        "train_df.head()"
      ],
      "execution_count": null,
      "outputs": []
    },
    {
      "cell_type": "markdown",
      "metadata": {
        "id": "lWi42ndvaEKm"
      },
      "source": [
        "### Handle missing values for age\n",
        "We will now guess values of age based on sex (male / female) \n",
        "and socioeconomic class (1st, 2nd, 3rd) of the passenger.\n",
        "\n",
        "The row indicates the sex, male = 0, female = 1\n",
        "\n",
        "> __IDEA:__ Wealth (indicated by class accomodation), as well as Gender, historically are indicative of age. \n",
        "\n",
        "> This approach gives us a more refined estimate than only taking the median / mean, etc. "
      ]
    },
    {
      "cell_type": "code",
      "metadata": {
        "id": "k1TFnma7aEKm"
      },
      "source": [
        "# create empty array  for later use\n",
        "\n",
        "guess_ages = np.zeros((2,3),dtype=int) \n",
        "guess_ages"
      ],
      "execution_count": null,
      "outputs": []
    },
    {
      "cell_type": "code",
      "metadata": {
        "id": "fOHVyF4RaEKm"
      },
      "source": [
        "# Fill the NA's for the Age columns\n",
        "# with \"qualified guesses\"\n",
        "\n",
        "for idx,dataset in enumerate(combine):  \n",
        "    # method adds a counter to an iterable and returns it in a form of enumerate object.     \n",
        "    if idx==0:\n",
        "        print('Working on Training Data set\\n')\n",
        "    else:\n",
        "        print('-'*35)\n",
        "        print('Working on Test Data set\\n')\n",
        "    \n",
        "    print('Guess values of age based on sex and pclass of the passenger...')\n",
        "    for i in range(0, 2):\n",
        "        for j in range(0,3):\n",
        "            guess_df = dataset[(dataset['Sex'] == i) \\\n",
        "                        & (dataset['Pclass'] == j+1)]['Age'].dropna()\n",
        "\n",
        "            # Extract the median age for this group\n",
        "            # (less sensitive) to outliers\n",
        "            age_guess = guess_df.median()\n",
        "          \n",
        "            # Convert random age float to int\n",
        "            guess_ages[i,j] = int(age_guess)\n",
        "    \n",
        "            \n",
        "    print('Guess_Age table:\\n',guess_ages)\n",
        "    print ('\\nAssigning age values to NAN age values in the dataset...')\n",
        "    \n",
        "    for i in range(0, 2):\n",
        "        for j in range(0, 3):\n",
        "            dataset.loc[ (dataset.Age.isnull()) & (dataset.Sex == i) \\\n",
        "                    & (dataset.Pclass == j+1),'Age'] = guess_ages[i,j]\n",
        "                    \n",
        "\n",
        "    dataset['Age'] = dataset['Age'].astype(int)\n",
        "    print()\n",
        "print('Done! \\n\\n\\n')\n",
        "train_df.head()"
      ],
      "execution_count": null,
      "outputs": []
    },
    {
      "cell_type": "markdown",
      "metadata": {
        "id": "bOJi7ufnaEKm"
      },
      "source": [
        "### Split age into bands / categorical ranges and look at survival rates"
      ]
    },
    {
      "cell_type": "code",
      "metadata": {
        "id": "8NxoFcnPaEKm"
      },
      "source": [
        "# Age bands\n",
        "train_df['AgeBand'] = pd.cut(train_df['Age'], 5)\n",
        "train_df[['AgeBand', 'Survived']].groupby(['AgeBand'], as_index=False)\\\n",
        "                    .mean().sort_values(by='AgeBand', ascending=True)"
      ],
      "execution_count": null,
      "outputs": []
    },
    {
      "cell_type": "markdown",
      "metadata": {
        "id": "AhwoA363aEKm"
      },
      "source": [
        "### Distribution of suvival relative to age"
      ]
    },
    {
      "cell_type": "code",
      "metadata": {
        "id": "m9ZbzY4ZaEKm"
      },
      "source": [
        "# Plot distributions of Age of passangers who survived \n",
        "# or did not survive\n",
        "\n",
        "plot_distribution( train_df , var = 'Age' , target = 'Survived' ,\\\n",
        "                  row = 'Sex' )\n",
        "\n",
        "# Recall: {'male': 0, 'female': 1}"
      ],
      "execution_count": null,
      "outputs": []
    },
    {
      "cell_type": "code",
      "metadata": {
        "id": "7M_VjbpwaEKm"
      },
      "source": [
        "# Change Age column to\n",
        "# map Age ranges (AgeBands) to integer values of categorical type \n",
        "\n",
        "for dataset in combine:    \n",
        "    dataset.loc[ dataset['Age'] <= 16, 'Age'] = 0\n",
        "    dataset.loc[(dataset['Age'] > 16) & (dataset['Age'] <= 32), 'Age'] = 1\n",
        "    dataset.loc[(dataset['Age'] > 32) & (dataset['Age'] <= 48), 'Age'] = 2\n",
        "    dataset.loc[(dataset['Age'] > 48) & (dataset['Age'] <= 64), 'Age'] = 3\n",
        "    dataset.loc[ dataset['Age'] > 64, 'Age']=4\n",
        "train_df.head()\n",
        "\n",
        "# Note we could just run \n",
        "# dataset['Age'] = pd.cut(dataset['Age'], 5,labels=[0,1,2,3,4])"
      ],
      "execution_count": null,
      "outputs": []
    },
    {
      "cell_type": "code",
      "metadata": {
        "id": "EpWimB3qaEKm"
      },
      "source": [
        "# remove AgeBand column\n",
        "\n",
        "train_df = train_df.drop(['AgeBand'], axis=1)\n",
        "combine = [train_df, test_df]\n",
        "train_df.head()"
      ],
      "execution_count": null,
      "outputs": []
    },
    {
      "cell_type": "markdown",
      "metadata": {
        "id": "mWdP3RYtaEKm"
      },
      "source": [
        "### Travel Party Size\n",
        "\n",
        "How did the number of people the person traveled with impact the chance of survival?"
      ]
    },
    {
      "cell_type": "code",
      "metadata": {
        "id": "dvd9Ng2zaEKm"
      },
      "source": [
        "# SibSp = Number of Sibling / Spouses\n",
        "# Parch = Parents / Children\n",
        "\n",
        "for dataset in combine:\n",
        "    dataset['FamilySize'] = dataset['SibSp'] + dataset['Parch'] + 1\n",
        "\n",
        "    \n",
        "# Survival chance against FamilySize\n",
        "\n",
        "train_df[['FamilySize', 'Survived']].groupby(['FamilySize'], as_index=True) \\\n",
        "                                .mean().sort_values(by='Survived', ascending=False)"
      ],
      "execution_count": null,
      "outputs": []
    },
    {
      "cell_type": "code",
      "metadata": {
        "id": "CGpxYrdkaEKm"
      },
      "source": [
        "# Plot it, 1 is survived\n",
        "\n",
        "sns.countplot(x='Survived', hue=\"FamilySize\", data=train_df, order=[1,0]);"
      ],
      "execution_count": null,
      "outputs": []
    },
    {
      "cell_type": "code",
      "metadata": {
        "id": "TrfUI_-4aEKm"
      },
      "source": [
        "# Create binary variable if the person was alone or not\n",
        "\n",
        "for dataset in combine:\n",
        "    dataset['IsAlone'] = 0\n",
        "    dataset.loc[dataset['FamilySize'] == 1, 'IsAlone'] = 1\n",
        "\n",
        "train_df[['IsAlone', 'Survived']].groupby(['IsAlone'], as_index=True).mean()"
      ],
      "execution_count": null,
      "outputs": []
    },
    {
      "cell_type": "code",
      "metadata": {
        "id": "OgQZP7ReaEKm"
      },
      "source": [
        "# We will only use the binary IsAlone feature for further analysis\n",
        "\n",
        "for df in combine:\n",
        "    df.drop(['Parch', 'SibSp', 'FamilySize'], axis=1, inplace=True)\n",
        "\n",
        "\n",
        "train_df.head()"
      ],
      "execution_count": null,
      "outputs": []
    },
    {
      "cell_type": "markdown",
      "metadata": {
        "id": "SnOOgFREaEKm"
      },
      "source": [
        "# Feature construction"
      ]
    },
    {
      "cell_type": "code",
      "metadata": {
        "id": "3dmHsTEMaEKm"
      },
      "source": [
        "# We can also create new features based on intuitive combinations\n",
        "# Here is an example when we say that the age times socioclass is a determinant factor\n",
        "\n",
        "for dataset in combine:\n",
        "    dataset['Age*Class'] = dataset.Age * dataset.Pclass\n",
        "\n",
        "train_df.loc[:, ['Age*Class', 'Age', 'Pclass']].head()"
      ],
      "execution_count": null,
      "outputs": []
    },
    {
      "cell_type": "code",
      "metadata": {
        "id": "niq5Z-paaEKm"
      },
      "source": [
        "train_df[['Age*Class', 'Survived']].groupby(['Age*Class'], as_index=True).mean()"
      ],
      "execution_count": null,
      "outputs": []
    },
    {
      "cell_type": "markdown",
      "metadata": {
        "id": "rTK7j6EraEKm"
      },
      "source": [
        "### Port the person embarked from\n",
        "Let's see how that influences chance of survival"
      ]
    },
    {
      "cell_type": "markdown",
      "metadata": {
        "id": "OcsZIRP-aEKm"
      },
      "source": [
        "<img src= \"data/images/titanic_voyage_map.png\">\n",
        ">___\n",
        "\n",
        "> #### __Interesting Fact:__ \n",
        "\n",
        "> Third Class passengers were the first to board, with First and Second Class passengers following up to an hour before departure. \n",
        "\n",
        "> Third Class passengers were inspected for ailments and physical impairments that might lead to their being refused entry to the United States, while First Class passengers were personally greeted by Captain Smith."
      ]
    },
    {
      "cell_type": "code",
      "metadata": {
        "id": "DNaqBGwaaEKm"
      },
      "source": [
        "# To replace Nan value in 'Embarked', we will use the mode\n",
        "# in 'Embaraked'. This will give us the most frequent port \n",
        "# the passengers embarked from\n",
        "\n",
        "freq_port = train_df['Embarked'].dropna().mode()[0]\n",
        "print('Most frequent port of Embarkation:',freq_port)\n"
      ],
      "execution_count": null,
      "outputs": []
    },
    {
      "cell_type": "code",
      "metadata": {
        "id": "Kxd3dXlnaEKn"
      },
      "source": [
        "# Fill NaN 'Embarked' Values in the datasets\n",
        "\n",
        "for dataset in combine:\n",
        "    dataset['Embarked'] = dataset['Embarked'].fillna(freq_port)\n",
        "    \n",
        "    \n",
        "train_df[['Embarked', 'Survived']].groupby(['Embarked'], as_index=True) \\\n",
        "                    .mean().sort_values(by='Survived', ascending=False)\n"
      ],
      "execution_count": null,
      "outputs": []
    },
    {
      "cell_type": "markdown",
      "metadata": {
        "id": "UPYO3l1haEKn"
      },
      "source": [
        "### Survival relative to port of origin"
      ]
    },
    {
      "cell_type": "code",
      "metadata": {
        "id": "DWfKA45TaEKn"
      },
      "source": [
        "# Plot of relationship between survival and origin \n",
        "\n",
        "sns.countplot(x='Survived', hue=\"Embarked\", data=train_df, order=[1,0])\n",
        "plt.xticks(range(2),['Made it!', 'Deceased']);\n"
      ],
      "execution_count": null,
      "outputs": []
    },
    {
      "cell_type": "code",
      "metadata": {
        "id": "yWc8Tsn0aEKn"
      },
      "source": [
        "# Create categorical dummy variables for Embarked values\n",
        "\n",
        "for dataset in combine:\n",
        "    binary_encoded = pd.get_dummies(dataset.Embarked)\n",
        "    newcols = binary_encoded.columns\n",
        "    dataset[newcols] = binary_encoded\n",
        "\n",
        "    \n",
        "train_df.head()"
      ],
      "execution_count": null,
      "outputs": []
    },
    {
      "cell_type": "code",
      "metadata": {
        "id": "piYXdMhfaEKn"
      },
      "source": [
        "# Drop Embarked\n",
        "\n",
        "for dataset in combine:\n",
        "    dataset.drop('Embarked', axis=1, inplace=True)"
      ],
      "execution_count": null,
      "outputs": []
    },
    {
      "cell_type": "markdown",
      "metadata": {
        "id": "zRvakRgpaEKn"
      },
      "source": [
        "### Fare Amount\n",
        "What is the relationship between _Fare_ and survival"
      ]
    },
    {
      "cell_type": "code",
      "metadata": {
        "id": "YDFb_UcuaEKn"
      },
      "source": [
        "# Fill the NA values in the Fares column with the median\n",
        "\n",
        "test_df['Fare'].fillna(test_df['Fare'].dropna().median(), inplace=True)\n",
        "test_df.head()"
      ],
      "execution_count": null,
      "outputs": []
    },
    {
      "cell_type": "code",
      "metadata": {
        "id": "2rzFPnltaEKn"
      },
      "source": [
        "# q cut will find ranges equal to the quartile of the data\n",
        "\n",
        "train_df['FareBand'] = pd.qcut(train_df['Fare'], 4)\n",
        "train_df[['FareBand', 'Survived']].groupby(['FareBand'], as_index=False).mean().sort_values(by='FareBand', ascending=True)"
      ],
      "execution_count": null,
      "outputs": []
    },
    {
      "cell_type": "code",
      "metadata": {
        "id": "_GcvKm8waEKn"
      },
      "source": [
        "for dataset in combine:\n",
        "    dataset['Fare']=pd.qcut(train_df['Fare'],4,labels=np.arange(4))\n",
        "    dataset['Fare'] = dataset['Fare'].astype(int)\n",
        "\n",
        "train_df[['Fare','FareBand']].head()"
      ],
      "execution_count": null,
      "outputs": []
    },
    {
      "cell_type": "code",
      "metadata": {
        "id": "4cRU3lSfaEKn"
      },
      "source": [
        "# Drop FareBand\n",
        "\n",
        "train_df = train_df.drop(['FareBand'], axis=1) \n",
        "combine = [train_df, test_df]"
      ],
      "execution_count": null,
      "outputs": []
    },
    {
      "cell_type": "markdown",
      "metadata": {
        "id": "fHhT9uNuaEKn"
      },
      "source": [
        "### Finished -- Preprocessing Complete!"
      ]
    },
    {
      "cell_type": "code",
      "metadata": {
        "id": "0aPo2u9gaEKn"
      },
      "source": [
        "# All features are approximately on the same scale\n",
        "# no need for feature engineering / normalization\n",
        "\n",
        "train_df.head(7)"
      ],
      "execution_count": null,
      "outputs": []
    },
    {
      "cell_type": "code",
      "metadata": {
        "id": "Vew0i2_qaEKn"
      },
      "source": [
        "test_df.head(7)"
      ],
      "execution_count": null,
      "outputs": []
    },
    {
      "cell_type": "markdown",
      "metadata": {
        "id": "YShoo9-EaEKn"
      },
      "source": [
        "### Sanity Check: View the correlation between features in our processed dataset"
      ]
    },
    {
      "cell_type": "code",
      "metadata": {
        "id": "l89IkS4UaEKn"
      },
      "source": [
        "# Uncorrelated features are generally more powerful predictors\n",
        "\n",
        "colormap = plt.cm.viridis\n",
        "plt.figure(figsize=(12,12))\n",
        "plt.title('Pearson Correlation of Features', y=1.05, size=15)\n",
        "sns.heatmap(train_df.corr().round(2)\\\n",
        "            ,linewidths=0.1,vmax=1.0, square=True, cmap=colormap, \\\n",
        "            linecolor='white', annot=True);"
      ],
      "execution_count": null,
      "outputs": []
    },
    {
      "cell_type": "markdown",
      "metadata": {
        "id": "pGDkvWQKaEKn"
      },
      "source": [
        "<a id='sec5'></a>\n",
        "___\n",
        "## Part 4: Machine Learning!\n",
        "Now we will Model, Predict, and Choose from algorithms for classification. \n",
        "We will try using different classifiers to model and predict. \n",
        "\n",
        "We ultimately will choose the best model from:\n",
        "1. Logistic Regression\n",
        "2. K-Nearest Neighbors (KNN) \n",
        "3. Support Vector Machines (SVM)\n",
        "4. Perceptron\n",
        "5. XGBoost\n",
        "6. Random Forest\n",
        "7. Dense Neural Network"
      ]
    },
    {
      "cell_type": "markdown",
      "metadata": {
        "id": "yfg-XmqQaEKn"
      },
      "source": [
        "### Setup Training and Validation Sets"
      ]
    },
    {
      "cell_type": "code",
      "metadata": {
        "id": "5WUt_ARfaEKn"
      },
      "source": [
        "X = train_df.drop(\"Survived\", axis=1) # Training & Validation data\n",
        "Y = train_df[\"Survived\"]              # Response / Target Variable\n",
        "\n",
        "X_submission  = test_df.drop(\"PassengerId\", axis=1).copy()\n",
        "\n",
        "print(X.shape, Y.shape)"
      ],
      "execution_count": null,
      "outputs": []
    },
    {
      "cell_type": "code",
      "metadata": {
        "id": "PFFNtUilaEKn"
      },
      "source": [
        "# Split training set so that we validate on 20% of the data\n",
        "# Note that our algorithms will never have seen the validation \n",
        "# data during training. This is to evaluate how good our estimators are.\n",
        "\n",
        "np.random.seed(1337) # set random seed for reproducibility\n",
        "\n",
        "from sklearn.model_selection import train_test_split\n",
        "\n",
        "X_train, X_val, Y_train, Y_val = train_test_split(X, Y, test_size=0.2)\n",
        "\n",
        "print(X_train.shape, Y_train.shape)\n",
        "print(X_val.shape, Y_val.shape)"
      ],
      "execution_count": null,
      "outputs": []
    },
    {
      "cell_type": "markdown",
      "metadata": {
        "id": "u7K_cPnTaEKn"
      },
      "source": [
        "___\n",
        "> ### Scikit-Learn general ML workflow\n",
        "> 1. __Instantiate__ model object\n",
        "> 2. __Fit__ model to training data\n",
        "> 3. __Predict & Evaluate__ predict output for data not used during training and compare predicitons against true output values to form an accuracy measure.\n",
        "\n",
        "___"
      ]
    },
    {
      "cell_type": "markdown",
      "metadata": {
        "id": "MVLP0xgpaEKn"
      },
      "source": [
        "### Comparing Modeling Approaches (Algorithms)"
      ]
    },
    {
      "cell_type": "markdown",
      "metadata": {
        "id": "giszgFfdaEKn"
      },
      "source": [
        "#### 1. Logistic Regression"
      ]
    },
    {
      "cell_type": "code",
      "metadata": {
        "id": "8avg6hJvaEKn"
      },
      "source": [
        "logreg = LogisticRegression()                                # instantiate\n",
        "logreg.fit(X_train, Y_train)                                 # fit\n",
        "Y_pred = logreg.predict(X_val)                               # predict\n",
        "acc_logreg = sum(Y_pred == Y_val)/len(Y_val)*100                # evaluate\n",
        "\n",
        "print('Logistic Regression labeling accuracy:', str(round(acc_logreg,2)),'%')"
      ],
      "execution_count": null,
      "outputs": []
    },
    {
      "cell_type": "code",
      "metadata": {
        "id": "YrRPwoLAaEKn"
      },
      "source": [
        "# we could also use scikit learn's method score\n",
        "# that predicts and then compares to validation set labels\n",
        "acc_log_2 = logreg.score(X_val, Y_val)                       # evaluate\n",
        "\n",
        "print('Logistic Regression using built-in method:', str(round(acc_log_2*100,2)),'%')"
      ],
      "execution_count": null,
      "outputs": []
    },
    {
      "cell_type": "markdown",
      "metadata": {
        "id": "vZYbKoAfaEKn"
      },
      "source": [
        "#### 2. KNN"
      ]
    },
    {
      "cell_type": "code",
      "metadata": {
        "id": "Tw1c4YytaEKn"
      },
      "source": [
        "knn = KNeighborsClassifier(n_neighbors = 3)                  # instantiate\n",
        "knn.fit(X_train, Y_train)                                    # fit\n",
        "acc_knn = knn.score(X_val, Y_val)                            # predict + evaluate\n",
        "\n",
        "print('K-Nearest Neighbors labeling accuracy:', str(round(acc_knn*100,2)),'%')                                "
      ],
      "execution_count": null,
      "outputs": []
    },
    {
      "cell_type": "markdown",
      "metadata": {
        "id": "k8MU7vFFaEKn"
      },
      "source": [
        "#### 3. SVM"
      ]
    },
    {
      "cell_type": "code",
      "metadata": {
        "id": "5wl9L8epaEKn"
      },
      "source": [
        "# Support Vector Machines Classifier (non-linear kernel)\n",
        "svc = SVC()                                                  # instantiate\n",
        "svc.fit(X_train, Y_train)                                    # fit\n",
        "acc_svc = svc.score(X_val, Y_val)                            # predict + evaluate\n",
        "\n",
        "print('Support Vector Machines labeling accuracy:', str(round(acc_svc*100,2)),'%')"
      ],
      "execution_count": null,
      "outputs": []
    },
    {
      "cell_type": "markdown",
      "metadata": {
        "id": "aYadvY9TaEKn"
      },
      "source": [
        "#### 4. Perceptron"
      ]
    },
    {
      "cell_type": "code",
      "metadata": {
        "id": "WdmqHkevaEKn"
      },
      "source": [
        "perceptron = Perceptron()                                    # instantiate \n",
        "perceptron.fit(X_train, Y_train)                             # fit\n",
        "acc_perceptron = perceptron.score(X_val, Y_val)              # predict + evalaute\n",
        "\n",
        "print('Perceptron labeling accuracy:', str(round(acc_perceptron*100,2)),'%')"
      ],
      "execution_count": null,
      "outputs": []
    },
    {
      "cell_type": "markdown",
      "metadata": {
        "id": "JczUwrw3aEKn"
      },
      "source": [
        "#### 5. XGBoost"
      ]
    },
    {
      "cell_type": "code",
      "metadata": {
        "id": "5bZIfnLcaEKn"
      },
      "source": [
        "# XGBoost, same API as scikit-learn\n",
        "gradboost = xgb.XGBClassifier(n_estimators=1000)             # instantiate\n",
        "gradboost.fit(X_train, Y_train)                              # fit\n",
        "acc_xgboost = gradboost.score(X_val, Y_val)                  # predict + evalute\n",
        "\n",
        "print('XGBoost labeling accuracy:', str(round(acc_xgboost*100,2)),'%')"
      ],
      "execution_count": null,
      "outputs": []
    },
    {
      "cell_type": "markdown",
      "metadata": {
        "id": "Gw2kVsZhaEKn"
      },
      "source": [
        "#### 6. Random Forest"
      ]
    },
    {
      "cell_type": "code",
      "metadata": {
        "id": "fM7S2G-BaEKn"
      },
      "source": [
        "# Random Forest\n",
        "random_forest = RandomForestClassifier(n_estimators=500)   # instantiate\n",
        "random_forest.fit(X_train, Y_train)                         # fit\n",
        "acc_rf = random_forest.score(X_val, Y_val)                  # predict + evaluate\n",
        "\n",
        "print('K-Nearest Neighbors labeling accuracy:', str(round(acc_rf*100,2)),'%')"
      ],
      "execution_count": null,
      "outputs": []
    },
    {
      "cell_type": "markdown",
      "metadata": {
        "id": "QBTtxz28aEKn"
      },
      "source": [
        "## Dense Neural Network"
      ]
    },
    {
      "cell_type": "code",
      "metadata": {
        "id": "RHFjqcqhaEKn"
      },
      "source": [
        "import tensorflow as tf\n",
        "\n",
        "from tensorflow.keras.models import Sequential\n",
        "from tensorflow.keras.layers import Dense"
      ],
      "execution_count": null,
      "outputs": []
    },
    {
      "cell_type": "code",
      "metadata": {
        "id": "VcfFKOoFaEKo"
      },
      "source": [
        "# instantiate\n",
        "\n",
        "model = Sequential()\n",
        "model.add( Dense(units=300, activation='relu', input_shape=(14,) ))\n",
        "model.add( Dense(units=100, activation='relu'))\n",
        "model.add( Dense(units=50, activation='relu'))\n",
        "model.add( Dense(units=1, activation='sigmoid') )"
      ],
      "execution_count": null,
      "outputs": []
    },
    {
      "cell_type": "code",
      "metadata": {
        "id": "B5c0OFeOaEKo"
      },
      "source": [
        "# fit\n",
        "\n",
        "model.compile(loss = 'binary_crossentropy', optimizer = 'adam',\\\n",
        "              metrics = ['accuracy'])\n",
        "model.fit(X_train.values, Y_train.values, epochs = 50, batch_size= 50)"
      ],
      "execution_count": null,
      "outputs": []
    },
    {
      "cell_type": "code",
      "metadata": {
        "id": "TTtXQG-PaEKo"
      },
      "source": [
        "# Evaluate the model Accuracy on test set\n",
        "print('Neural Network accuracy:',str(round(model.evaluate(X_val.values, \\\n",
        "                Y_val.values, batch_size=50,verbose=False)[1]*100,2)),'%')"
      ],
      "execution_count": null,
      "outputs": []
    },
    {
      "cell_type": "markdown",
      "metadata": {
        "id": "DTtn0yIHaEKo"
      },
      "source": [
        "### Importance scores in the random forest model"
      ]
    },
    {
      "cell_type": "code",
      "metadata": {
        "id": "owjJeAIjaEKo"
      },
      "source": [
        "# Look at importnace of features for random forest\n",
        "\n",
        "def plot_model_var_imp( model , X , y ):\n",
        "    imp = pd.DataFrame( \n",
        "        model.feature_importances_  , \n",
        "        columns = [ 'Importance' ] , \n",
        "        index = X.columns \n",
        "    )\n",
        "    imp = imp.sort_values( [ 'Importance' ] , ascending = True )\n",
        "    imp[ : 10 ].plot( kind = 'barh' )\n",
        "    print ('Training accuracy Random Forest:',model.score( X , y ))\n",
        "\n",
        "plot_model_var_imp(random_forest, X_train, Y_train)"
      ],
      "execution_count": null,
      "outputs": []
    },
    {
      "cell_type": "markdown",
      "metadata": {
        "id": "7gw6u5EvaEKo"
      },
      "source": [
        "# Compete on Kaggle!"
      ]
    },
    {
      "cell_type": "code",
      "metadata": {
        "id": "up1CiciAaEKo"
      },
      "source": [
        "# How to create a Kaggle submission with a Random Forest Classifier\n",
        "Y_submission = svc.predict(X_submission)\n",
        "submission = pd.DataFrame({\n",
        "        \"PassengerId\": test_df[\"PassengerId\"],\n",
        "        \"Survived\": Y_submission\n",
        "    })\n",
        "submission.to_csv('titanic.csv', index=False)"
      ],
      "execution_count": null,
      "outputs": []
    },
    {
      "cell_type": "markdown",
      "metadata": {
        "id": "wr6k2yiwaEKo"
      },
      "source": [
        "<a id='sec6'></a>\n",
        "___\n",
        "___\n",
        "\n",
        "## Appendix I: Why are our models maxing out at around 80%?\n"
      ]
    },
    {
      "cell_type": "markdown",
      "metadata": {
        "id": "d7uHJB5baEKo"
      },
      "source": [
        "#### __John Jacob Astor__\n",
        "\n",
        "<img src= \"data/images/john-jacob-astor.jpg\"> \n",
        "\n",
        "John Jacob Astor perished in the disaster even though our model predicted he would survive. Astor was the wealthiest person on the Titanic -- his ticket fare was valued at over 35,000 USD in 2016 -- it seems likely that he would have been among of the approximatelly 35 percent of men in first class to survive. However, this was not the case: although his pregnant wife survived, John Jacob Astor’s body was recovered a week later, along with a gold watch, a diamond ring with three stones, and no less than 92,481 USD (2016 value) in cash.\n",
        "\n",
        "<br >\n",
        "\n",
        "\n",
        "#### __Olaus Jorgensen Abelseth__\n",
        "\n",
        "<img src= \"data/images/olaus-jorgensen-abelseth.jpg\">\n",
        "\n",
        "Avelseth was a 25-year-old Norwegian sailor, a man in 3rd class, and not expected to survive by classifier. However, once the ship sank, he survived by swimming for 20 minutes in the frigid North Atlantic water before joining other survivors on a waterlogged collapsible boat.\n",
        "\n",
        "Abelseth got married three years later, settled down as a farmer in North Dakota, had 4 kids, and died in 1980 at the age of 94.\n",
        "\n",
        "<br >\n",
        "\n",
        "### __Key Takeaway__ \n",
        "\n",
        "As engineers and busines professionals, we are trained to as ourselves, what could we do to improve on an 80 percent average. As it is often the case, it’s easy to forget that these data points represent real people. Each time our model was wrong we should be glad -- in such misclasifications we will likely find incredible stories of human nature and courage triumphing over extremely difficult odds. \n",
        "\n",
        "__It is important to never lose sight of the human element when analyzing data that deals with people.__ \n",
        "\n",
        "In the case of this dataset, the moment we are disappointed that our accuracy was not higher, we are disappointed that more poeple did not die."
      ]
    },
    {
      "cell_type": "markdown",
      "metadata": {
        "id": "OAnD-5AyaEKo"
      },
      "source": [
        "<a id='sec7'></a>\n",
        "___\n",
        "## Appendix II: Resources and references to material we won't cover in detail"
      ]
    },
    {
      "cell_type": "markdown",
      "metadata": {
        "id": "JWlYZl98aEKo"
      },
      "source": [
        "> * **Gradient Boosting:** http://blog.kaggle.com/2017/01/23/a-kaggle-master-explains-gradient-boosting/\n",
        "\n",
        "> * **Jupyter Notebook (tutorial):** https://www.datacamp.com/community/tutorials/tutorial-jupyter-notebook\n",
        "\n",
        "> * **K-Nearest Neighbors (KNN):** https://towardsdatascience.com/introduction-to-k-nearest-neighbors-3b534bb11d26\n",
        "\n",
        "> * **Logistic Regression:** https://towardsdatascience.com/5-reasons-logistic-regression-should-be-the-first-thing-you-learn-when-become-a-data-scientist-fcaae46605c4\n",
        "\n",
        "> * **Naive Bayes:** http://scikit-learn.org/stable/modules/naive_bayes.html\n",
        "\n",
        "> * **Perceptron:** http://aass.oru.se/~lilien/ml/seminars/2007_02_01b-Janecek-Perceptron.pdf\n",
        "\n",
        "> * **Random Forest:** https://medium.com/@williamkoehrsen/random-forest-simple-explanation-377895a60d2d\n",
        "\n",
        "> * **Support Vector Machines (SVM):** https://towardsdatascience.com/https-medium-com-pupalerushikesh-svm-f4b42800e989\n",
        "\n",
        "\n",
        "<br>\n",
        "___\n",
        "___"
      ]
    },
    {
      "cell_type": "markdown",
      "metadata": {
        "id": "nNb3tajBaEKo"
      },
      "source": [
        "![](https://raw.githubusercontent.com/afo/data-x-plaksha/master/imgsource/dx_logo.png)"
      ]
    },
    {
      "cell_type": "code",
      "metadata": {
        "id": "YG-QzEBUaEKo"
      },
      "source": [
        ""
      ],
      "execution_count": null,
      "outputs": []
    }
  ]
}